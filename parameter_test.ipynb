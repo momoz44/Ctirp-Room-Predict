{
 "cells": [
  {
   "cell_type": "code",
   "execution_count": null,
   "metadata": {
    "collapsed": true
   },
   "outputs": [],
   "source": [
    "import numpy as np\n",
    "import pandas as pd"
   ]
  },
  {
   "cell_type": "code",
   "execution_count": null,
   "metadata": {
    "collapsed": true
   },
   "outputs": [],
   "source": [
    "#from sklearn.externals import joblib\n",
    "#xgbc0 = joblib.load('./models/xgbc0.m')"
   ]
  },
  {
   "cell_type": "code",
   "execution_count": null,
   "metadata": {
    "collapsed": true
   },
   "outputs": [],
   "source": [
    "imp_feat = pd.read_csv('imp_features.csv')\n",
    "lists = imp_feat['featimp']"
   ]
  },
  {
   "cell_type": "code",
   "execution_count": null,
   "metadata": {
    "collapsed": true
   },
   "outputs": [],
   "source": [
    "X_train = pd.read_csv('train_total1.csv', usecols = lists)\n",
    "y = pd.read_csv('train_total1.csv', usecols = ['orderlabel'])\n",
    "y_train = y['orderlabel']"
   ]
  },
  {
   "cell_type": "code",
   "execution_count": null,
   "metadata": {
    "collapsed": true
   },
   "outputs": [],
   "source": [
    "#data = pd.read_csv('train_total1.csv')"
   ]
  },
  {
   "cell_type": "code",
   "execution_count": null,
   "metadata": {
    "collapsed": true
   },
   "outputs": [],
   "source": [
    "from sklearn.cross_validation import cross_val_score"
   ]
  },
  {
   "cell_type": "code",
   "execution_count": null,
   "metadata": {
    "collapsed": true
   },
   "outputs": [],
   "source": [
    "from sklearn.cross_validation import cross_val_score\n",
    "import xgboost as xgb\n",
    "from xgboost import XGBClassifier\n",
    "from sklearn import metrics\n",
    "from sklearn.grid_search import GridSearchCV"
   ]
  },
  {
   "cell_type": "code",
   "execution_count": null,
   "metadata": {
    "collapsed": true
   },
   "outputs": [],
   "source": [
    "xgbc1 = XGBClassifier()"
   ]
  },
  {
   "cell_type": "code",
   "execution_count": null,
   "metadata": {
    "collapsed": true
   },
   "outputs": [],
   "source": [
    "print (cross_val_score(xgbc1, X_train, y_train, cv=5, scoring='roc_auc').mean())"
   ]
  },
  {
   "cell_type": "code",
   "execution_count": null,
   "metadata": {
    "collapsed": true
   },
   "outputs": [],
   "source": [
    "target = 'orderlabel'\n",
    "predictors = [x for x in data.columns if x not in ['orderlabel']]\n",
    "def modelfit(alg, dtrain, predictors, useTrainCV=True, cv_folds=5, early_stopping_rounds=50):\n",
    "    if useTrainCV:\n",
    "        xgb_param = alg.get_xgb_params()\n",
    "        xgtrain = xgb.DMatrix(dtrain[predictors].values, label=dtrain[target].values)\n",
    "        cvresult = xgb.cv(xgb_param, xgtrain, num_boost_round=alg.get_params()['n_estimators'], nfold=cv_folds, metrics='auc',early_stopping_rounds=early_stopping_rounds) #, show_progress=False\n",
    "        alg.set_params(n_estimators=cvresult.shape[0])\n",
    "        \n",
    "    alg.fit(dtrain[predictors], dtrain[target], eval_metric='auc')\n",
    "    \n",
    "    dtrain_predictions = alg.predict(dtrain[predictors])\n",
    "    dtrain_predprob = alg.predict_proba(dtrain[predictors])[:,1]\n",
    "    \n",
    "    print ('\\nModel Report')\n",
    "    print (metrics.accuracy_score(dtrain[target].values, dtrain_predictions)) # Accuracy\n",
    "    print (metrics.roc_auc_score(dtrain[target], dtrain_predprob)) #'AUC Score (Train): %f') \n",
    "    \n",
    "    feat_imp = pd.Series(alg.booster().get_fscore()).sort_values(ascending=False)\n",
    "    print (feat_imp) \n",
    "    #plt.ylabel('Feature Importance Score')"
   ]
  },
  {
   "cell_type": "markdown",
   "metadata": {},
   "source": [
    "用分好的部分值作为训练集。"
   ]
  },
  {
   "cell_type": "code",
   "execution_count": null,
   "metadata": {
    "collapsed": true
   },
   "outputs": [],
   "source": [
    "data = pd.read_csv('./partsample/X_train_p2.csv')"
   ]
  },
  {
   "cell_type": "code",
   "execution_count": null,
   "metadata": {
    "collapsed": true
   },
   "outputs": [],
   "source": [
    "modelfit(xgbc1, data, predictors)"
   ]
  },
  {
   "cell_type": "markdown",
   "metadata": {},
   "source": [
    "Model Report\n",
    "0.954323824993\n",
    "0.98297650585"
   ]
  },
  {
   "cell_type": "code",
   "execution_count": null,
   "metadata": {
    "collapsed": true
   },
   "outputs": [],
   "source": [
    "xgbc2=XGBClassifier(\n",
    "learning_rate = 0.05,\n",
    "n_estimators = 1500,\n",
    "max_depth = 5,\n",
    "min_child_weight = 3,\n",
    "gamma = 0,\n",
    "subsample = 0.8,\n",
    "colsample_bytree = 0.8,\n",
    "objective = 'binary:logistic',\n",
    "nthread = -1,\n",
    "scale_pos_weight = 1,\n",
    "reg_alpha=0.005,\n",
    "seed = 27)"
   ]
  },
  {
   "cell_type": "markdown",
   "metadata": {},
   "source": [
    "0.92826"
   ]
  },
  {
   "cell_type": "markdown",
   "metadata": {},
   "source": [
    "以上跑了20分钟，所以估计以下参数需要4个小时。\n",
    "XGBClassifier(base_score=0.5, colsample_bylevel=1, colsample_bytree=1,\n",
    "       gamma=0, learning_rate=0.1, max_delta_step=0, max_depth=3,\n",
    "       min_child_weight=1, missing=None, n_estimators=100, nthread=-1,\n",
    "       objective='binary:logistic', reg_alpha=0, reg_lambda=1,\n",
    "       scale_pos_weight=1, seed=0, silent=True, subsample=1)\n"
   ]
  },
  {
   "cell_type": "markdown",
   "metadata": {},
   "source": [
    "Model Report\n",
    "0.974094125198\n",
    "0.991553588279\n",
    "\n",
    "2小时40分钟"
   ]
  },
  {
   "cell_type": "code",
   "execution_count": null,
   "metadata": {
    "collapsed": true
   },
   "outputs": [],
   "source": [
    "param_test1 = {\n",
    "    'max_depth':list(range(3,10,2)),\n",
    "    'min_child_weight':list(range(1,6,2))\n",
    "}\n",
    "gsearch1 = GridSearchCV(estimator = XGBClassifier (\n",
    "learning_rate = 0.1,\n",
    "n_estimators = 140,\n",
    "max_depth = 5,\n",
    "min_child_weight = 1,\n",
    "gamma = 0,\n",
    "subsample = 0.8,\n",
    "colsample_bytree = 0.8,\n",
    "objective = 'binary:logistic',\n",
    "nthread = -1,\n",
    "scale_pos_weight = 1,\n",
    "seed = 27\n",
    "), param_grid = param_test1, scoring='roc_auc', n_jobs=-1, iid=False, cv=5, verbose=1)"
   ]
  },
  {
   "cell_type": "markdown",
   "metadata": {},
   "source": [
    "python3里面，range返回的是一个迭代值，用list（）转化后可以和2一样使用"
   ]
  },
  {
   "cell_type": "code",
   "execution_count": null,
   "metadata": {
    "collapsed": true
   },
   "outputs": [],
   "source": [
    "param_test1 = {\n",
    "    'max_depth':list(range(3,10,2)),\n",
    "    'min_child_weight':list(range(1,6,2))\n",
    "}\n",
    "xgbc1 = XGBClassifier (\n",
    "learning_rate = 0.1,\n",
    "n_estimators = 140,\n",
    "max_depth = 5,\n",
    "min_child_weight = 1,\n",
    "gamma = 0,\n",
    "subsample = 0.8,\n",
    "colsample_bytree = 0.8,\n",
    "objective = 'binary:logistic',\n",
    "nthread = -1,\n",
    "scale_pos_weight = 1,\n",
    "seed = 27\n",
    ")\n",
    "gsearch1 = GridSearchCV(xgbc1, param_test1, scoring='roc_auc', n_jobs=-1, iid=False, cv=5, verbose=1)"
   ]
  },
  {
   "cell_type": "code",
   "execution_count": null,
   "metadata": {
    "collapsed": true
   },
   "outputs": [],
   "source": []
  },
  {
   "cell_type": "code",
   "execution_count": null,
   "metadata": {
    "collapsed": true
   },
   "outputs": [],
   "source": [
    "gsearch1.fit(Dtrain[predictors], Dtrain[target])\n",
    "gsearch1.grid_scores_\n",
    "gsearch1.best_params_\n",
    "gsearch1.best_score_"
   ]
  },
  {
   "cell_type": "code",
   "execution_count": null,
   "metadata": {
    "collapsed": true
   },
   "outputs": [],
   "source": [
    "X_test = pd.read_csv('test_total.csv', usecols = predictors)\n",
    "label = ['orderid','roomid']\n",
    "X_sub = pd.read_csv('competition_test.txt', sep='\\t', usecols = label)\n",
    "y_pred = xgbc2.predict_proba(X_test)[:,1]"
   ]
  },
  {
   "cell_type": "code",
   "execution_count": null,
   "metadata": {
    "collapsed": true
   },
   "outputs": [],
   "source": [
    "X_sub['predict_roomid'] = X_sub['roomid']\n",
    "X_sub['pred'] = y_pred\n",
    "X_sub = X_sub.drop(['roomid'], axis=1)"
   ]
  },
  {
   "cell_type": "code",
   "execution_count": null,
   "metadata": {
    "collapsed": true
   },
   "outputs": [],
   "source": [
    "subsub = X_sub.sort_index(by=['orderid', 'pred'], ascending=False)\n",
    "sub_xgbc_final = subsub.groupby(subsub['orderid']).head(1)\n",
    "sub_xgbc_final = sub_xgbc_final.drop(['pred'],axis=1)\n",
    "sub_xgbc_final.to_csv('./final_xgbc.csv', index=False)"
   ]
  }
 ],
 "metadata": {
  "kernelspec": {
   "display_name": "Python 2",
   "language": "python",
   "name": "python2"
  },
  "language_info": {
   "codemirror_mode": {
    "name": "ipython",
    "version": 2
   },
   "file_extension": ".py",
   "mimetype": "text/x-python",
   "name": "python",
   "nbconvert_exporter": "python",
   "pygments_lexer": "ipython2",
   "version": "2.7.13"
  }
 },
 "nbformat": 4,
 "nbformat_minor": 2
}
